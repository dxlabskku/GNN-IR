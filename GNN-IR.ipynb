{
 "cells": [
  {
   "cell_type": "code",
   "execution_count": null,
   "metadata": {
    "executionInfo": {
     "elapsed": 12360,
     "status": "ok",
     "timestamp": 1685036161325,
     "user": {
      "displayName": "박진희",
      "userId": "05160930561022806163"
     },
     "user_tz": -540
    },
    "id": "iYf5udcNsDKA"
   },
   "outputs": [],
   "source": [
    "import requests, re, os\n",
    "from glob import glob\n",
    "import pandas as pd\n",
    "import numpy as np\n",
    "from matplotlib import pyplot as plt\n",
    "from PIL import Image\n",
    "\n",
    "from urllib.request import urlretrieve\n",
    "from tqdm import tqdm\n",
    "\n",
    "import tensorflow as tf\n",
    "import tensorflow as tf\n",
    "from tensorflow import keras\n",
    "\n",
    "import torch\n",
    "import torch.nn as nn\n",
    "import torch.nn.functional as F\n",
    "from torch import Tensor \n",
    "from torch.nn import Parameter\n",
    "\n",
    "from sklearn.metrics import roc_auc_score\n",
    "from sklearn.preprocessing import LabelEncoder\n",
    "from sklearn.metrics import precision_score, recall_score,f1_score,accuracy_score\n",
    "\n",
    "import torch_geometric\n",
    "from torch_geometric.data import HeteroData\n",
    "import torch_geometric.transforms as T\n",
    "from torch_geometric.nn import SAGEConv,to_hetero,GraphConv \n",
    "from torch_geometric.nn.conv import MessagePassing\n",
    "from torch_geometric.loader import LinkNeighborLoader\n",
    "\n",
    "from transformers import BertTokenizer, BertModel\n",
    "from extractor import *"
   ]
  },
  {
   "cell_type": "markdown",
   "metadata": {},
   "source": [
    "# data loading"
   ]
  },
  {
   "cell_type": "code",
   "execution_count": 2,
   "metadata": {
    "scrolled": true
   },
   "outputs": [
    {
     "data": {
      "text/html": [
       "<div>\n",
       "<style scoped>\n",
       "    .dataframe tbody tr th:only-of-type {\n",
       "        vertical-align: middle;\n",
       "    }\n",
       "\n",
       "    .dataframe tbody tr th {\n",
       "        vertical-align: top;\n",
       "    }\n",
       "\n",
       "    .dataframe thead th {\n",
       "        text-align: right;\n",
       "    }\n",
       "</style>\n",
       "<table border=\"1\" class=\"dataframe\">\n",
       "  <thead>\n",
       "    <tr style=\"text-align: right;\">\n",
       "      <th></th>\n",
       "      <th>title</th>\n",
       "      <th>advertiser</th>\n",
       "      <th>influencer</th>\n",
       "      <th>date</th>\n",
       "      <th>view</th>\n",
       "      <th>keyword</th>\n",
       "      <th>videoID</th>\n",
       "    </tr>\n",
       "  </thead>\n",
       "  <tbody>\n",
       "    <tr>\n",
       "      <th>0</th>\n",
       "      <td>현 올영알바가 추천하는 향수대신 쓰기 좋은 갓성비 향기템 추천 #올리브영알바 #올영...</td>\n",
       "      <td>더블유드레스룸</td>\n",
       "      <td>유나러부</td>\n",
       "      <td>23.08.26</td>\n",
       "      <td>조회수 3K</td>\n",
       "      <td>뷰티 &amp; 메이크업</td>\n",
       "      <td>VW5HM-wVV08</td>\n",
       "    </tr>\n",
       "    <tr>\n",
       "      <th>1</th>\n",
       "      <td>3배 더 예뻐지는 \"컨투어링\" 멱살 잡고 알려드림✊? | 죽어가는 이목구비 소생법 ...</td>\n",
       "      <td>페리페라</td>\n",
       "      <td>지냐 Jinyaa</td>\n",
       "      <td>23.08.26</td>\n",
       "      <td>조회수 73K</td>\n",
       "      <td>뷰티 &amp; 메이크업</td>\n",
       "      <td>wCjzu3OT2XE</td>\n",
       "    </tr>\n",
       "    <tr>\n",
       "      <th>2</th>\n",
       "      <td>갸루 언니✌ to K-아이돌?언니 데뷔해줘요</td>\n",
       "      <td>에뛰드</td>\n",
       "      <td>회사원A</td>\n",
       "      <td>23.08.26</td>\n",
       "      <td>조회수 32K</td>\n",
       "      <td>뷰티 &amp; 메이크업</td>\n",
       "      <td>T8PLbhE6fqc</td>\n",
       "    </tr>\n",
       "    <tr>\n",
       "      <th>3</th>\n",
       "      <td>토너 200% 활용법 #토너팩하는법 #더마펌</td>\n",
       "      <td>더마펌</td>\n",
       "      <td>랏뚜 Beauty</td>\n",
       "      <td>23.08.26</td>\n",
       "      <td>조회수 51</td>\n",
       "      <td>뷰티 &amp; 메이크업</td>\n",
       "      <td>olFCmnJ-znY</td>\n",
       "    </tr>\n",
       "    <tr>\n",
       "      <th>4</th>\n",
       "      <td>베네피트 신상틴트? 태연PICK 6컬러 발라보기! (스플래시 듀이틴트&amp;플러시 벨벳틴...</td>\n",
       "      <td>베네피트</td>\n",
       "      <td>HANE 하네</td>\n",
       "      <td>23.08.26</td>\n",
       "      <td>조회수 3K</td>\n",
       "      <td>뷰티 &amp; 메이크업</td>\n",
       "      <td>_y9BEWs3obc</td>\n",
       "    </tr>\n",
       "    <tr>\n",
       "      <th>...</th>\n",
       "      <td>...</td>\n",
       "      <td>...</td>\n",
       "      <td>...</td>\n",
       "      <td>...</td>\n",
       "      <td>...</td>\n",
       "      <td>...</td>\n",
       "      <td>...</td>\n",
       "    </tr>\n",
       "    <tr>\n",
       "      <th>25169</th>\n",
       "      <td>이런거까지 된다는 요즘 로봇청소기 ㄷㄷ</td>\n",
       "      <td>아이리버</td>\n",
       "      <td>공간일기</td>\n",
       "      <td>23.08.28</td>\n",
       "      <td>조회수 8천</td>\n",
       "      <td>IT &amp; 전자기기</td>\n",
       "      <td>dDwK_uvlqh0</td>\n",
       "    </tr>\n",
       "    <tr>\n",
       "      <th>25170</th>\n",
       "      <td>미리보는 남자 가을코디 (with 갤럭시 Z 플립5)</td>\n",
       "      <td>삼성전자</td>\n",
       "      <td>코디메이커 피로</td>\n",
       "      <td>23.08.27</td>\n",
       "      <td>조회수 4만</td>\n",
       "      <td>IT &amp; 전자기기</td>\n",
       "      <td>6ugZ1JO600o</td>\n",
       "    </tr>\n",
       "    <tr>\n",
       "      <th>25171</th>\n",
       "      <td>ENG) 다이노탱 때문에 백화점 오픈런이라는걸 해봄😱 귀여운 마그넷 만들고, 콩알이...</td>\n",
       "      <td>삼성전자</td>\n",
       "      <td>코지데이 CozyDay</td>\n",
       "      <td>23.08.27</td>\n",
       "      <td>조회수 2만</td>\n",
       "      <td>IT &amp; 전자기기</td>\n",
       "      <td>HHUiqWBWcoA</td>\n",
       "    </tr>\n",
       "    <tr>\n",
       "      <th>25172</th>\n",
       "      <td>손 그림 VS 액정 타블렛 ? 뉴진스 하니</td>\n",
       "      <td>엑스피펜</td>\n",
       "      <td>MerryMa 메리마</td>\n",
       "      <td>23.08.26</td>\n",
       "      <td>조회수 1백만</td>\n",
       "      <td>IT &amp; 전자기기</td>\n",
       "      <td>-0JNe3se7JM</td>\n",
       "    </tr>\n",
       "    <tr>\n",
       "      <th>25173</th>\n",
       "      <td>갤럭시 탭 S9으로도 유화 그릴 수 있음</td>\n",
       "      <td>삼성전자</td>\n",
       "      <td>쥬캔버스 JOO CANVAS</td>\n",
       "      <td>23.08.26</td>\n",
       "      <td>조회수 3만</td>\n",
       "      <td>IT &amp; 전자기기</td>\n",
       "      <td>McEhiA9oZhc</td>\n",
       "    </tr>\n",
       "  </tbody>\n",
       "</table>\n",
       "<p>25174 rows × 7 columns</p>\n",
       "</div>"
      ],
      "text/plain": [
       "                                                   title advertiser  \\\n",
       "0      현 올영알바가 추천하는 향수대신 쓰기 좋은 갓성비 향기템 추천 #올리브영알바 #올영...    더블유드레스룸   \n",
       "1      3배 더 예뻐지는 \"컨투어링\" 멱살 잡고 알려드림✊? | 죽어가는 이목구비 소생법 ...       페리페라   \n",
       "2                               갸루 언니✌ to K-아이돌?언니 데뷔해줘요        에뛰드   \n",
       "3                               토너 200% 활용법 #토너팩하는법 #더마펌        더마펌   \n",
       "4      베네피트 신상틴트? 태연PICK 6컬러 발라보기! (스플래시 듀이틴트&플러시 벨벳틴...       베네피트   \n",
       "...                                                  ...        ...   \n",
       "25169                              이런거까지 된다는 요즘 로봇청소기 ㄷㄷ       아이리버   \n",
       "25170                      미리보는 남자 가을코디 (with 갤럭시 Z 플립5)       삼성전자   \n",
       "25171  ENG) 다이노탱 때문에 백화점 오픈런이라는걸 해봄😱 귀여운 마그넷 만들고, 콩알이...       삼성전자   \n",
       "25172                            손 그림 VS 액정 타블렛 ? 뉴진스 하니       엑스피펜   \n",
       "25173                             갤럭시 탭 S9으로도 유화 그릴 수 있음       삼성전자   \n",
       "\n",
       "            influencer      date     view    keyword      videoID  \n",
       "0                 유나러부  23.08.26   조회수 3K  뷰티 & 메이크업  VW5HM-wVV08  \n",
       "1            지냐 Jinyaa  23.08.26  조회수 73K  뷰티 & 메이크업  wCjzu3OT2XE  \n",
       "2                 회사원A  23.08.26  조회수 32K  뷰티 & 메이크업  T8PLbhE6fqc  \n",
       "3            랏뚜 Beauty  23.08.26   조회수 51  뷰티 & 메이크업  olFCmnJ-znY  \n",
       "4              HANE 하네  23.08.26   조회수 3K  뷰티 & 메이크업  _y9BEWs3obc  \n",
       "...                ...       ...      ...        ...          ...  \n",
       "25169             공간일기  23.08.28   조회수 8천  IT & 전자기기  dDwK_uvlqh0  \n",
       "25170         코디메이커 피로  23.08.27   조회수 4만  IT & 전자기기  6ugZ1JO600o  \n",
       "25171     코지데이 CozyDay  23.08.27   조회수 2만  IT & 전자기기  HHUiqWBWcoA  \n",
       "25172      MerryMa 메리마  23.08.26  조회수 1백만  IT & 전자기기  -0JNe3se7JM  \n",
       "25173  쥬캔버스 JOO CANVAS  23.08.26   조회수 3만  IT & 전자기기  McEhiA9oZhc  \n",
       "\n",
       "[25174 rows x 7 columns]"
      ]
     },
     "execution_count": 2,
     "metadata": {},
     "output_type": "execute_result"
    }
   ],
   "source": [
    "link_df=pd.read_csv('./data/advertiser_influencer_link.csv',index_col=0)\n",
    "link_df"
   ]
  },
  {
   "cell_type": "code",
   "execution_count": 3,
   "metadata": {},
   "outputs": [
    {
     "data": {
      "text/html": [
       "<div>\n",
       "<style scoped>\n",
       "    .dataframe tbody tr th:only-of-type {\n",
       "        vertical-align: middle;\n",
       "    }\n",
       "\n",
       "    .dataframe tbody tr th {\n",
       "        vertical-align: top;\n",
       "    }\n",
       "\n",
       "    .dataframe thead th {\n",
       "        text-align: right;\n",
       "    }\n",
       "</style>\n",
       "<table border=\"1\" class=\"dataframe\">\n",
       "  <thead>\n",
       "    <tr style=\"text-align: right;\">\n",
       "      <th></th>\n",
       "      <th>influencer</th>\n",
       "      <th>keyword</th>\n",
       "      <th>ad_name</th>\n",
       "      <th>subscribers</th>\n",
       "      <th>num_videos</th>\n",
       "      <th>view</th>\n",
       "      <th>clear_subscriber</th>\n",
       "      <th>clear_video</th>\n",
       "      <th>clear_view</th>\n",
       "      <th>average_view</th>\n",
       "      <th>negative</th>\n",
       "      <th>positive</th>\n",
       "    </tr>\n",
       "  </thead>\n",
       "  <tbody>\n",
       "    <tr>\n",
       "      <th>0</th>\n",
       "      <td>areumsongee아름송이</td>\n",
       "      <td>뷰티 &amp; 메이크업 &amp; 패션 &amp; 뷰티</td>\n",
       "      <td>['나의 결혼계획 발표...타투소개 , 30대의 노화관리(?) 그리고 스무살 송충이...</td>\n",
       "      <td>구독자 80.4만명</td>\n",
       "      <td>266</td>\n",
       "      <td>조회수 79,082,010회</td>\n",
       "      <td>804000</td>\n",
       "      <td>266</td>\n",
       "      <td>79082010</td>\n",
       "      <td>98.360709</td>\n",
       "      <td>0.165041</td>\n",
       "      <td>0.834959</td>\n",
       "    </tr>\n",
       "    <tr>\n",
       "      <th>1</th>\n",
       "      <td>솔업 sollup</td>\n",
       "      <td>패션 &amp; 뷰티 &amp; 코디 &amp; 룩북</td>\n",
       "      <td>['아트가 라이프에 주는 가치에 대해? 아트 컬렉팅을 시작하는 쉬운 방법 공유해요!...</td>\n",
       "      <td>구독자 5.67만명</td>\n",
       "      <td>126</td>\n",
       "      <td>조회수 3,560,810회</td>\n",
       "      <td>56700</td>\n",
       "      <td>126</td>\n",
       "      <td>3560810</td>\n",
       "      <td>62.800882</td>\n",
       "      <td>0.126663</td>\n",
       "      <td>0.873337</td>\n",
       "    </tr>\n",
       "    <tr>\n",
       "      <th>2</th>\n",
       "      <td>에익쿠</td>\n",
       "      <td>만화 &amp; 애니메이션 &amp; 언어</td>\n",
       "      <td>['ENG) 첫 임무 / MBTI 저승사자 만화 ep.3', 'MBTI 올리브영 할...</td>\n",
       "      <td>구독자 33.1만명</td>\n",
       "      <td>176</td>\n",
       "      <td>조회수 77,560,785회</td>\n",
       "      <td>331000</td>\n",
       "      <td>176</td>\n",
       "      <td>77560785</td>\n",
       "      <td>234.322613</td>\n",
       "      <td>0.264321</td>\n",
       "      <td>0.735679</td>\n",
       "    </tr>\n",
       "    <tr>\n",
       "      <th>3</th>\n",
       "      <td>마빡</td>\n",
       "      <td>게임 &amp; 음식</td>\n",
       "      <td>['경북 성주로 밀웜사육하는곳가서 직접먹방!! [ Mealworm Mukbang ]...</td>\n",
       "      <td>구독자 14.6만명</td>\n",
       "      <td>2.2천</td>\n",
       "      <td>조회수 47,977,810회</td>\n",
       "      <td>146000</td>\n",
       "      <td>2200</td>\n",
       "      <td>47977810</td>\n",
       "      <td>328.615137</td>\n",
       "      <td>0.434274</td>\n",
       "      <td>0.565726</td>\n",
       "    </tr>\n",
       "    <tr>\n",
       "      <th>4</th>\n",
       "      <td>nbkorea</td>\n",
       "      <td>패션 &amp; 뷰티 &amp; 스포츠 의류</td>\n",
       "      <td>['[뉴발란스] New Balance Womens Sports Club with 뉴...</td>\n",
       "      <td>구독자 6.95천명</td>\n",
       "      <td>481</td>\n",
       "      <td>조회수 16,441,242회</td>\n",
       "      <td>6950</td>\n",
       "      <td>481</td>\n",
       "      <td>16441242</td>\n",
       "      <td>2365.646331</td>\n",
       "      <td>0.032029</td>\n",
       "      <td>0.967971</td>\n",
       "    </tr>\n",
       "    <tr>\n",
       "      <th>...</th>\n",
       "      <td>...</td>\n",
       "      <td>...</td>\n",
       "      <td>...</td>\n",
       "      <td>...</td>\n",
       "      <td>...</td>\n",
       "      <td>...</td>\n",
       "      <td>...</td>\n",
       "      <td>...</td>\n",
       "      <td>...</td>\n",
       "      <td>...</td>\n",
       "      <td>...</td>\n",
       "      <td>...</td>\n",
       "    </tr>\n",
       "    <tr>\n",
       "      <th>3807</th>\n",
       "      <td>핵꿀잼</td>\n",
       "      <td>영화 &amp; 교육 &amp; 직업, 언어</td>\n",
       "      <td>['드라마 아니고 영환줄..', '미친 삼각 말아주는 #최악의악', '유재석이 기다...</td>\n",
       "      <td>구독자 16.6만명</td>\n",
       "      <td>1.3천</td>\n",
       "      <td>조회수 878,905,265회</td>\n",
       "      <td>166000</td>\n",
       "      <td>1300</td>\n",
       "      <td>878905265</td>\n",
       "      <td>5294.610030</td>\n",
       "      <td>0.811188</td>\n",
       "      <td>0.188812</td>\n",
       "    </tr>\n",
       "    <tr>\n",
       "      <th>3808</th>\n",
       "      <td>지식인사이드</td>\n",
       "      <td>의료 &amp; 건강, 신체 질환 &amp; 컨디션 이상 &amp; 재테크</td>\n",
       "      <td>[\"EBS 명의 출연 정형외과 전문의, 제 부모님이 무릎 아프다고 하시면 딱 '이것...</td>\n",
       "      <td>구독자 117만명</td>\n",
       "      <td>410</td>\n",
       "      <td>조회수 194,240,972회</td>\n",
       "      <td>117000</td>\n",
       "      <td>410</td>\n",
       "      <td>194240972</td>\n",
       "      <td>1660.179248</td>\n",
       "      <td>0.316265</td>\n",
       "      <td>0.683735</td>\n",
       "    </tr>\n",
       "    <tr>\n",
       "      <th>3809</th>\n",
       "      <td>흥삶이네 Heungsam's Life</td>\n",
       "      <td>식품 &amp; 먹방 &amp; 레시피</td>\n",
       "      <td>['부모님 모시고 홍천 한우 먹고왔습니다.', '부모님 모시고 군산에 다녀왔습니다....</td>\n",
       "      <td>구독자 6.49만명</td>\n",
       "      <td>27</td>\n",
       "      <td>조회수 7,276,901회</td>\n",
       "      <td>64900</td>\n",
       "      <td>27</td>\n",
       "      <td>7276901</td>\n",
       "      <td>112.124823</td>\n",
       "      <td>0.270422</td>\n",
       "      <td>0.729578</td>\n",
       "    </tr>\n",
       "    <tr>\n",
       "      <th>3810</th>\n",
       "      <td>리뷰하는고래</td>\n",
       "      <td>IT &amp; 전자기기, 소비자 가전 &amp; 취미 &amp; 공예, 특별한 날</td>\n",
       "      <td>['\"왜 안춥지?\" 난방비 절약하는 겨울 꿀템 추천 제품 5가지', '갤럭시도 맥세...</td>\n",
       "      <td>구독자 1.43만명</td>\n",
       "      <td>93</td>\n",
       "      <td>조회수 18,304,358회</td>\n",
       "      <td>14300</td>\n",
       "      <td>93</td>\n",
       "      <td>18304358</td>\n",
       "      <td>1280.025035</td>\n",
       "      <td>0.520805</td>\n",
       "      <td>0.479195</td>\n",
       "    </tr>\n",
       "    <tr>\n",
       "      <th>3811</th>\n",
       "      <td>공간일기</td>\n",
       "      <td>헤어 케어 &amp; 식품</td>\n",
       "      <td>['거북목 필수 시청! 수면의 질 확 올리는 베개🐰\\U0001fa75', '삶의 질...</td>\n",
       "      <td>구독자 8.25만명</td>\n",
       "      <td>174</td>\n",
       "      <td>조회수 46,139,028회</td>\n",
       "      <td>82500</td>\n",
       "      <td>174</td>\n",
       "      <td>46139028</td>\n",
       "      <td>559.260945</td>\n",
       "      <td>0.795177</td>\n",
       "      <td>0.204823</td>\n",
       "    </tr>\n",
       "  </tbody>\n",
       "</table>\n",
       "<p>3812 rows × 12 columns</p>\n",
       "</div>"
      ],
      "text/plain": [
       "                influencer                             keyword  \\\n",
       "0          areumsongee아름송이                뷰티 & 메이크업 & 패션 & 뷰티    \n",
       "1                솔업 sollup                  패션 & 뷰티 & 코디 & 룩북    \n",
       "2                      에익쿠                    만화 & 애니메이션 & 언어    \n",
       "3                       마빡                            게임 & 음식    \n",
       "4                  nbkorea                   패션 & 뷰티 & 스포츠 의류    \n",
       "...                    ...                                 ...   \n",
       "3807                   핵꿀잼                    영화 & 교육 & 직업, 언어   \n",
       "3808                지식인사이드       의료 & 건강, 신체 질환 & 컨디션 이상 & 재테크   \n",
       "3809  흥삶이네 Heungsam's Life                       식품 & 먹방 & 레시피   \n",
       "3810                리뷰하는고래  IT & 전자기기, 소비자 가전 & 취미 & 공예, 특별한 날   \n",
       "3811                  공간일기                          헤어 케어 & 식품   \n",
       "\n",
       "                                                ad_name subscribers  \\\n",
       "0     ['나의 결혼계획 발표...타투소개 , 30대의 노화관리(?) 그리고 스무살 송충이...  구독자 80.4만명   \n",
       "1     ['아트가 라이프에 주는 가치에 대해? 아트 컬렉팅을 시작하는 쉬운 방법 공유해요!...  구독자 5.67만명   \n",
       "2     ['ENG) 첫 임무 / MBTI 저승사자 만화 ep.3', 'MBTI 올리브영 할...  구독자 33.1만명   \n",
       "3     ['경북 성주로 밀웜사육하는곳가서 직접먹방!! [ Mealworm Mukbang ]...  구독자 14.6만명   \n",
       "4     ['[뉴발란스] New Balance Womens Sports Club with 뉴...  구독자 6.95천명   \n",
       "...                                                 ...         ...   \n",
       "3807  ['드라마 아니고 영환줄..', '미친 삼각 말아주는 #최악의악', '유재석이 기다...  구독자 16.6만명   \n",
       "3808  [\"EBS 명의 출연 정형외과 전문의, 제 부모님이 무릎 아프다고 하시면 딱 '이것...   구독자 117만명   \n",
       "3809  ['부모님 모시고 홍천 한우 먹고왔습니다.', '부모님 모시고 군산에 다녀왔습니다....  구독자 6.49만명   \n",
       "3810  ['\"왜 안춥지?\" 난방비 절약하는 겨울 꿀템 추천 제품 5가지', '갤럭시도 맥세...  구독자 1.43만명   \n",
       "3811  ['거북목 필수 시청! 수면의 질 확 올리는 베개🐰\\U0001fa75', '삶의 질...  구독자 8.25만명   \n",
       "\n",
       "     num_videos              view  clear_subscriber  clear_video  clear_view  \\\n",
       "0           266   조회수 79,082,010회            804000          266    79082010   \n",
       "1           126    조회수 3,560,810회             56700          126     3560810   \n",
       "2           176   조회수 77,560,785회            331000          176    77560785   \n",
       "3          2.2천   조회수 47,977,810회            146000         2200    47977810   \n",
       "4           481   조회수 16,441,242회              6950          481    16441242   \n",
       "...         ...               ...               ...          ...         ...   \n",
       "3807       1.3천  조회수 878,905,265회            166000         1300   878905265   \n",
       "3808        410  조회수 194,240,972회            117000          410   194240972   \n",
       "3809         27    조회수 7,276,901회             64900           27     7276901   \n",
       "3810         93   조회수 18,304,358회             14300           93    18304358   \n",
       "3811        174   조회수 46,139,028회             82500          174    46139028   \n",
       "\n",
       "      average_view  negative  positive  \n",
       "0        98.360709  0.165041  0.834959  \n",
       "1        62.800882  0.126663  0.873337  \n",
       "2       234.322613  0.264321  0.735679  \n",
       "3       328.615137  0.434274  0.565726  \n",
       "4      2365.646331  0.032029  0.967971  \n",
       "...            ...       ...       ...  \n",
       "3807   5294.610030  0.811188  0.188812  \n",
       "3808   1660.179248  0.316265  0.683735  \n",
       "3809    112.124823  0.270422  0.729578  \n",
       "3810   1280.025035  0.520805  0.479195  \n",
       "3811    559.260945  0.795177  0.204823  \n",
       "\n",
       "[3812 rows x 12 columns]"
      ]
     },
     "execution_count": 3,
     "metadata": {},
     "output_type": "execute_result"
    }
   ],
   "source": [
    "influencer_info=pd.read_csv('./data/influencer_info.csv',index_col=0 )\n",
    "influencer_info"
   ]
  },
  {
   "cell_type": "markdown",
   "metadata": {},
   "source": [
    "# create node, edge"
   ]
  },
  {
   "cell_type": "code",
   "execution_count": 4,
   "metadata": {},
   "outputs": [
    {
     "name": "stdout",
     "output_type": "stream",
     "text": [
      "Mapping of sponsor IDs to consecutive values:\n",
      "==========================================\n",
      "  advertiser  mappedID\n",
      "0    더블유드레스룸         0\n",
      "1       페리페라         1\n",
      "2        에뛰드         2\n",
      "3        더마펌         3\n",
      "4       베네피트         4\n",
      "Mapping of creator IDs to consecutive values:\n",
      "===========================================\n",
      "  influencer  mappedID\n",
      "0       유나러부         0\n",
      "1  지냐 Jinyaa         1\n",
      "2       회사원A         2\n",
      "3  랏뚜 Beauty         3\n",
      "4    HANE 하네         4\n"
     ]
    }
   ],
   "source": [
    "unique_advertiser_id = link_df['advertiser'].unique() \n",
    "unique_advertiser_id = pd.DataFrame(data={\n",
    "    'advertiser': unique_advertiser_id,\n",
    "    'mappedID': pd.RangeIndex(len(unique_advertiser_id)), \n",
    "})\n",
    "print(\"Mapping of sponsor IDs to consecutive values:\")\n",
    "print(\"==========================================\")\n",
    "print(unique_advertiser_id.head())\n",
    "\n",
    "\n",
    "\n",
    "unique_influencer_id = link_df['influencer'].unique()\n",
    "unique_influencer_id = pd.DataFrame(data={\n",
    "    'influencer': unique_influencer_id,\n",
    "    'mappedID': pd.RangeIndex(len(unique_influencer_id)),\n",
    "})\n",
    "print(\"Mapping of creator IDs to consecutive values:\")\n",
    "print(\"===========================================\")\n",
    "print(unique_influencer_id.head())\n"
   ]
  },
  {
   "cell_type": "code",
   "execution_count": 5,
   "metadata": {},
   "outputs": [
    {
     "name": "stdout",
     "output_type": "stream",
     "text": [
      "      advertiser  mappedID\n",
      "0        더블유드레스룸         0\n",
      "1           페리페라         1\n",
      "2            에뛰드         2\n",
      "3            더마펌         3\n",
      "4           베네피트         4\n",
      "...          ...       ...\n",
      "25169       아이리버      1885\n",
      "25170       삼성전자      1039\n",
      "25171       삼성전자      1039\n",
      "25172       엑스피펜      1040\n",
      "25173       삼성전자      1039\n",
      "\n",
      "[25174 rows x 2 columns]\n",
      "tensor([   0,    1,    2,  ..., 1039, 1040, 1039])\n",
      "25174\n"
     ]
    }
   ],
   "source": [
    "rating_advertiser_id = pd.merge(link_df['advertiser'], unique_advertiser_id,\n",
    "                            left_on='advertiser', right_on='advertiser', how='left')\n",
    "print(rating_advertiser_id)\n",
    "rating_advertiser_id = torch.from_numpy(rating_advertiser_id['mappedID'].values)\n",
    "print(rating_advertiser_id)\n",
    "print(len(rating_advertiser_id))\n"
   ]
  },
  {
   "cell_type": "code",
   "execution_count": 6,
   "metadata": {},
   "outputs": [
    {
     "name": "stdout",
     "output_type": "stream",
     "text": [
      "            influencer  mappedID\n",
      "0                 유나러부         0\n",
      "1            지냐 Jinyaa         1\n",
      "2                 회사원A         2\n",
      "3            랏뚜 Beauty         3\n",
      "4              HANE 하네         4\n",
      "...                ...       ...\n",
      "25169             공간일기      3811\n",
      "25170         코디메이커 피로      1454\n",
      "25171     코지데이 CozyDay      1254\n",
      "25172      MerryMa 메리마      1692\n",
      "25173  쥬캔버스 JOO CANVAS      1691\n",
      "\n",
      "[25174 rows x 2 columns]\n",
      "tensor([   0,    1,    2,  ..., 1254, 1692, 1691])\n",
      "25174\n"
     ]
    }
   ],
   "source": [
    "rating_influencer_id = pd.merge(link_df['influencer'], unique_influencer_id,\n",
    "                            left_on='influencer', right_on='influencer', how='left')\n",
    "print(rating_influencer_id)\n",
    "rating_influencer_id = torch.from_numpy(rating_influencer_id['mappedID'].values)\n",
    "print(rating_influencer_id)\n",
    "print(len(rating_influencer_id))\n"
   ]
  },
  {
   "cell_type": "code",
   "execution_count": 7,
   "metadata": {},
   "outputs": [
    {
     "name": "stdout",
     "output_type": "stream",
     "text": [
      "2\n",
      "25174\n",
      "\n",
      "Final edge indices pointing from sponsors to creators:\n",
      "=================================================\n",
      "tensor([[   0,    1,    2,  ..., 1039, 1040, 1039],\n",
      "        [   0,    1,    2,  ..., 1254, 1692, 1691]])\n"
     ]
    }
   ],
   "source": [
    "edge_index_advertiser_to_influencer = torch.stack([rating_advertiser_id, rating_influencer_id], dim=0)\n",
    "print(len(edge_index_advertiser_to_influencer)) \n",
    "print(len(edge_index_advertiser_to_influencer[0])) \n",
    "\n",
    "assert edge_index_advertiser_to_influencer.size() == (2, len(edge_index_advertiser_to_influencer[0]))\n",
    "print()\n",
    "print(\"Final edge indices pointing from sponsors to creators:\")\n",
    "print(\"=================================================\")\n",
    "print(edge_index_advertiser_to_influencer) "
   ]
  },
  {
   "cell_type": "markdown",
   "metadata": {},
   "source": [
    "# create edge weight"
   ]
  },
  {
   "cell_type": "code",
   "execution_count": 9,
   "metadata": {},
   "outputs": [],
   "source": [
    "advertiser_dict = dict()\n",
    "influencer_dict = dict()\n",
    "edge_list = list()\n",
    "edge_list_dict=dict()\n",
    "\n",
    "\n",
    "for idx, advertiser in enumerate(sorted(set(link_df[\"advertiser\"].values))):\n",
    "    advertiser_dict[advertiser] = idx\n",
    "\n",
    "for idx, influencer in enumerate(sorted(set(link_df[\"influencer\"].values))):\n",
    "    influencer_dict[influencer] = idx\n",
    "\n",
    "\n",
    "for advertiser, influencer in link_df[[\"advertiser\", \"influencer\"]].values:\n",
    "    if (advertiser, influencer) not in edge_list:\n",
    "        edge_list.append((advertiser, influencer))\n",
    "        edge_list_dict[(advertiser, influencer)]=1\n",
    "    else:\n",
    "        edge_list_dict[(advertiser, influencer)]=edge_list_dict[(advertiser, influencer)]+1\n",
    "    \n",
    "    \n",
    "\n",
    "reversed_advertiser_dict = {value: key for key, value in advertiser_dict.items()}\n",
    "reversed_influencer_dict = {value: key for key, value in influencer_dict.items()}"
   ]
  },
  {
   "cell_type": "code",
   "execution_count": 10,
   "metadata": {},
   "outputs": [],
   "source": [
    "for i in range(len(edge_list)):\n",
    "    if list(edge_list_dict.keys())[i]==edge_list[i]:\n",
    "        pass\n",
    "    else:\n",
    "        print(i)\n"
   ]
  },
  {
   "cell_type": "code",
   "execution_count": 11,
   "metadata": {},
   "outputs": [],
   "source": [
    "weight_feature=[]\n",
    "for i in range(len(link_df)):\n",
    "    pair=[]\n",
    "    pair.append(link_df['advertiser'][i])\n",
    "    pair.append(link_df['influencer'][i])\n",
    "    weight_value=edge_list_dict[tuple(pair)]\n",
    "    weight_feature.append(weight_value)\n",
    "    \n",
    "weight_feature=torch.tensor(weight_feature)"
   ]
  },
  {
   "cell_type": "markdown",
   "metadata": {},
   "source": [
    "# feature extraction"
   ]
  },
  {
   "cell_type": "code",
   "execution_count": null,
   "metadata": {},
   "outputs": [],
   "source": [
    "#create advertiser keyword feature, run this code to get advertiser keyword feature.\n",
    "advertiser_feature=[]\n",
    "for i in range(len(unique_advertiser_id)):\n",
    "    each = unique_advertiser_id['advertiser'][i]\n",
    "    length = len(link_df[link_df['advertiser']==each]['keyword'].unique())\n",
    "    if length==1:\n",
    "        advertiser_feature.append(link_df[link_df['advertiser']==each]['keyword'].unique()[0])\n",
    "    elif length==2:\n",
    "        advertiser_feature.append(link_df[link_df['advertiser']==each]['keyword'].unique()[0]+' & '+link_df[link_df['advertiser']==each]['keyword'].unique()[1])\n",
    "    elif length==3:\n",
    "        advertiser_feature.append(link_df[link_df['advertiser']==each]['keyword'].unique()[0]+' & '+link_df[link_df['advertiser']==each]['keyword'].unique()[1]+' & '+link_df[link_df['advertiser']==each]['keyword'].unique()[2])\n",
    "        \n",
    "    elif length==4:\n",
    "        advertiser_feature.append(link_df[link_df['advertiser']==each]['keyword'].unique()[0]+' & '+link_df[link_df['advertiser']==each]['keyword'].unique()[1]+' & '+link_df[link_df['advertiser']==each]['keyword'].unique()[2]+' & '+link_df[link_df['advertiser']==each]['keyword'].unique()[3])\n",
    "        \n",
    "    else:\n",
    "        advertiser_feature.append(link_df[link_df['advertiser']==each]['keyword'].unique()[0]+' & '+link_df[link_df['advertiser']==each]['keyword'].unique()[1]+' & '+link_df[link_df['advertiser']==each]['keyword'].unique()[2]+' & '+link_df[link_df['advertiser']==each]['keyword'].unique()[3]+' & '+link_df[link_df['advertiser']==each]['keyword'].unique()[4])\n",
    "    \n",
    "    \n",
    "    \n",
    "# Load KoBERT model ,tokenizer\n",
    "kobert_model_name = \"monologg/kobert\"\n",
    "tokenizer = BertTokenizer.from_pretrained(kobert_model_name)\n",
    "model = BertModel.from_pretrained(kobert_model_name)\n",
    "corpus_embeddings = []\n",
    "\n",
    "for sentence in tqdm(advertiser_feature):\n",
    "    inputs = tokenizer(sentence, padding=True, truncation=True, return_tensors=\"pt\")\n",
    "    with torch.no_grad():\n",
    "        outputs = model(**inputs)\n",
    "    sentence_embedding = outputs.last_hidden_state[:, 0, :].numpy()\n",
    "    corpus_embeddings.append(sentence_embedding)\n",
    "\n",
    "#advertiser_embeddings=corpus_embeddings\n",
    "advertiser_embeddings = corpus_embeddings\n",
    "advertiser_embeddings = np.array(advertiser_embeddings)\n",
    "np.save('./advertiser_keyword.npy', advertiser_embeddings)"
   ]
  },
  {
   "cell_type": "code",
   "execution_count": null,
   "metadata": {},
   "outputs": [],
   "source": [
    "# creator influencer keyword feature, run this code to get influencer keyword feature.\n",
    "\n",
    "influencer_feature=[]\n",
    "for i in range(len(unique_influencer_id)):\n",
    "    each=unique_influencer_id['influencer'][i]\n",
    "    key=influencer_info[influencer_info['influencer']==each]['keyword'].item()\n",
    "    influencer_feature.append(key)\n",
    "    \n",
    "kobert_model_name = \"monologg/kobert\"\n",
    "tokenizer = BertTokenizer.from_pretrained(kobert_model_name)\n",
    "model = BertModel.from_pretrained(kobert_model_name)\n",
    "inf_corpus_embeddings = []\n",
    "\n",
    "for sentence in tqdm(influencer_feature):\n",
    "    inputs = tokenizer(sentence, padding=True, truncation=True, return_tensors=\"pt\")\n",
    "    with torch.no_grad():\n",
    "        outputs = model(**inputs)\n",
    "    sentence_embedding = outputs.last_hidden_state[:, 0, :].numpy()\n",
    "    inf_corpus_embeddings.append(sentence_embedding)\n",
    "    \n",
    "inf_corpus_embeddings=np.array(inf_corpus_embeddings)\n",
    "np.save('./influencer_keyword.npy', inf_corpus_embeddings)"
   ]
  },
  {
   "cell_type": "code",
   "execution_count": null,
   "metadata": {},
   "outputs": [],
   "source": [
    "# create profile_image feature, run this code to get profile image feature\n",
    "\n",
    "clear_name=[]\n",
    "for i in range(len(unique_influencer_id)):\n",
    "    title_name = re.sub('[^0-9a-zA-Zㄱ-힗]', '', unique_influencer_id['creator'][i]) \n",
    "    clear_name.append(title_name)\n",
    "    \n",
    "img_list = []\n",
    "\n",
    "for img_title in tqdm(clear_name):\n",
    "    img_path='./datafolder/profile/'\n",
    "    \n",
    "    if img_path+img_title+'.jpg' in glob(img_path+'/*'):\n",
    "        image = np.array(Image.open(img_path+img_title+'.jpg').convert(\"RGB\").resize((224, 224))) \n",
    "        img_list.append(image)    \n",
    "        \n",
    "# CNN model\n",
    "cnnmodel = keras.Sequential([\n",
    "    keras.layers.Conv2D(64, (3, 3), activation='relu', input_shape=(224, 224, 3)),\n",
    "    keras.layers.MaxPooling2D((2, 2)),\n",
    "    keras.layers.Conv2D(128, (3, 3), activation='relu'),\n",
    "    keras.layers.Conv2D(128, (3, 3), activation='relu'),\n",
    "    keras.layers.MaxPooling2D((2, 2)),\n",
    "    keras.layers.Conv2D(256, (3, 3), activation='relu'),\n",
    "    keras.layers.Conv2D(256, (3, 3), activation='relu'),\n",
    "    keras.layers.Conv2D(256, (3, 3), activation='relu'),\n",
    "    keras.layers.MaxPooling2D((2, 2)),\n",
    "    keras.layers.Conv2D(512, (3, 3), activation='relu'),\n",
    "    keras.layers.Conv2D(512, (3, 3), activation='relu'),\n",
    "    keras.layers.Conv2D(512, (3, 3), activation='relu'),\n",
    "    keras.layers.MaxPooling2D((2, 2)),\n",
    "    keras.layers.Conv2D(512, (3, 3), activation='relu'),\n",
    "    keras.layers.Conv2D(512, (3, 3), activation='relu'),\n",
    "    keras.layers.Conv2D(64, (3, 3), activation='relu'),\n",
    "    keras.layers.MaxPooling2D((2, 2)),\n",
    "    keras.layers.Flatten()\n",
    "])\n",
    "\n",
    "\n",
    "img_feature = cnnmodel.predict(img_list)\n",
    "print(img_feature.shape)\n"
   ]
  },
  {
   "cell_type": "code",
   "execution_count": 12,
   "metadata": {},
   "outputs": [
    {
     "data": {
      "text/plain": [
       "torch.Size([1886, 768])"
      ]
     },
     "execution_count": 12,
     "metadata": {},
     "output_type": "execute_result"
    }
   ],
   "source": [
    "# load advertisr keyword.npy file\n",
    "\n",
    "advertiser_keyword = np.load('./data/advertiser_keyword.npy')\n",
    "advertiser_keyword=advertiser_keyword.tolist()\n",
    "advertiser_keyword=torch.tensor(advertiser_keyword)\n",
    "advertiser_keyword=advertiser_keyword.reshape(1886,768)\n",
    "\n",
    "advertiser_keyword.shape"
   ]
  },
  {
   "cell_type": "code",
   "execution_count": 13,
   "metadata": {},
   "outputs": [
    {
     "data": {
      "text/plain": [
       "torch.Size([3812, 768])"
      ]
     },
     "execution_count": 13,
     "metadata": {},
     "output_type": "execute_result"
    }
   ],
   "source": [
    "# load influencer keyword.npy file\n",
    "influencer_keyword = np.load('./data/influencer_keyword.npy')\n",
    "influencer_keyword=influencer_keyword.tolist()\n",
    "influencer_keyword=torch.tensor(influencer_keyword)\n",
    "influencer_keyword=influencer_keyword.reshape(3812,768)\n",
    "influencer_keyword.shape"
   ]
  },
  {
   "cell_type": "code",
   "execution_count": 14,
   "metadata": {},
   "outputs": [
    {
     "data": {
      "text/plain": [
       "tensor([6., 1., 3.,  ..., 1., 1., 1.])"
      ]
     },
     "execution_count": 14,
     "metadata": {},
     "output_type": "execute_result"
    }
   ],
   "source": [
    "# extract subscriber_rank feature\n",
    "subscribe_num=influencer_info['clear_subscriber']\n",
    "subscriber_rank=rankify_10(subscribe_num)\n",
    "subscriber_rank"
   ]
  },
  {
   "cell_type": "code",
   "execution_count": 15,
   "metadata": {},
   "outputs": [
    {
     "data": {
      "text/plain": [
       "tensor([1., 1., 1.,  ..., 1., 1., 1.])"
      ]
     },
     "execution_count": 15,
     "metadata": {},
     "output_type": "execute_result"
    }
   ],
   "source": [
    "# extract video_rank feature\n",
    "clear_video_num=influencer_info['clear_video']\n",
    "video_rank=rankify_10(clear_video_num)\n",
    "video_rank"
   ]
  },
  {
   "cell_type": "code",
   "execution_count": 16,
   "metadata": {},
   "outputs": [
    {
     "data": {
      "text/plain": [
       "tensor([1., 1., 1.,  ..., 1., 1., 1.])"
      ]
     },
     "execution_count": 16,
     "metadata": {},
     "output_type": "execute_result"
    }
   ],
   "source": [
    "# extract view_rank feature\n",
    "clear_view=influencer_info['clear_view']\n",
    "view_rank=rankify_10(clear_view)\n",
    "view_rank"
   ]
  },
  {
   "cell_type": "code",
   "execution_count": 17,
   "metadata": {},
   "outputs": [],
   "source": [
    "# extract average_view feature\n",
    "average_view=[]\n",
    "for i in range(len(influencer_info['clear_view'])):\n",
    "    average_view.append(influencer_info['clear_view'][i]/influencer_info['clear_subscriber'][i])\n",
    "average_view=list(influencer_info['average_view'])\n",
    "int_list = [float(item) for item in average_view]\n",
    "average_view=torch.tensor(int_list)"
   ]
  },
  {
   "cell_type": "code",
   "execution_count": 18,
   "metadata": {},
   "outputs": [],
   "source": [
    "# extract average_view_byvideo feature\n",
    "average_view_byvideo=[]\n",
    "for i in range(len(influencer_info['clear_view'])):\n",
    "    average_view_byvideo.append(influencer_info['clear_view'][i]/influencer_info['clear_video'][i])\n",
    "int_list = [float(item) for item in average_view_byvideo]\n",
    "average_view_byvideo=torch.tensor(int_list)"
   ]
  },
  {
   "cell_type": "code",
   "execution_count": 19,
   "metadata": {},
   "outputs": [
    {
     "data": {
      "text/plain": [
       "tensor([1., 1., 1.,  ..., 1., 1., 1.])"
      ]
     },
     "execution_count": 19,
     "metadata": {},
     "output_type": "execute_result"
    }
   ],
   "source": [
    "# extract average_view_rank feature\n",
    "average_view_num=average_view\n",
    "average_view_rank=rankify_10(average_view_num)\n",
    "average_view_rank"
   ]
  },
  {
   "cell_type": "code",
   "execution_count": 20,
   "metadata": {},
   "outputs": [
    {
     "data": {
      "text/plain": [
       "tensor([1., 1., 1.,  ..., 1., 1., 1.])"
      ]
     },
     "execution_count": 20,
     "metadata": {},
     "output_type": "execute_result"
    }
   ],
   "source": [
    "# extract average_view_byvideo_rank feature\n",
    "average_view_byvideo_num=average_view_byvideo\n",
    "average_view_byvideo_rank=rankify_10(average_view_byvideo_num)\n",
    "average_view_byvideo_rank        "
   ]
  },
  {
   "cell_type": "code",
   "execution_count": 21,
   "metadata": {},
   "outputs": [
    {
     "data": {
      "text/plain": [
       "tensor([5., 5., 5.,  ..., 4., 3., 2.])"
      ]
     },
     "execution_count": 21,
     "metadata": {},
     "output_type": "execute_result"
    }
   ],
   "source": [
    "# extract neg_rank, pos_rank feature\n",
    "comment_data=influencer_info[['influencer','negative','positive']]\n",
    "\n",
    "unique_influencer_id\n",
    "neg=[]\n",
    "pos=[]\n",
    "\n",
    "for i in unique_influencer_id['influencer']:\n",
    "\n",
    "    neg.append(comment_data[comment_data['influencer']==i]['negative'].item())\n",
    "    pos.append(comment_data[comment_data['influencer']==i]['positive'].item())\n",
    "    \n",
    "neg=torch.tensor(neg)\n",
    "pos=torch.tensor(pos)\n",
    "\n",
    "neg_rank=rankify_5(pos)\n",
    "neg_rank    \n",
    "\n",
    "pos_rank=rankify_5(pos)\n",
    "pos_rank"
   ]
  },
  {
   "cell_type": "code",
   "execution_count": 24,
   "metadata": {},
   "outputs": [],
   "source": [
    "# profile image feature\n",
    "img_feature=np.load('./data/profile_image.npy')\n",
    "img_feature=torch.tensor(img_feature)"
   ]
  },
  {
   "cell_type": "code",
   "execution_count": 25,
   "metadata": {},
   "outputs": [],
   "source": [
    "img_feature=img_feature\n",
    "influencer_keyword=influencer_keyword\n",
    "subscriber_rank=subscriber_rank.reshape(3812,1)\n",
    "video_rank=video_rank.reshape(3812,1)\n",
    "view_rank=view_rank.reshape(3812,1)\n",
    "average_view=average_view.reshape(3812,1)\n",
    "average_view_byvideo=average_view_byvideo.reshape(3812,1)\n",
    "average_view_rank=average_view_rank.reshape(3812,1)\n",
    "average_view_byvideo_rank=average_view_byvideo_rank.reshape(3812,1)\n",
    "neg=neg.reshape(3812,1)\n",
    "pos=pos.reshape(3812,1)\n",
    "neg_rank=neg_rank.reshape(3812,1) \n",
    "pos_rank=pos_rank.reshape(3812,1) \n"
   ]
  },
  {
   "cell_type": "markdown",
   "metadata": {},
   "source": [
    "# graph construction"
   ]
  },
  {
   "cell_type": "code",
   "execution_count": 26,
   "metadata": {},
   "outputs": [
    {
     "name": "stdout",
     "output_type": "stream",
     "text": [
      "HeteroData(\n",
      "  advertiser={\n",
      "    node_id=[1886],\n",
      "    x=[1886, 768],\n",
      "  },\n",
      "  influencer={\n",
      "    node_id=[3812],\n",
      "    x=[3812, 837],\n",
      "  },\n",
      "  (advertiser, interest, influencer)={\n",
      "    edge_index=[2, 25174],\n",
      "    edge_weight=[25174],\n",
      "  }\n",
      ")\n"
     ]
    }
   ],
   "source": [
    "data = HeteroData()\n",
    "data[\"advertiser\"].node_id = torch.arange(len(unique_advertiser_id)) # user 의 노드 아이디를 user 수로\n",
    "data[\"influencer\"].node_id = torch.arange(len(influencer_info)) # movie 의 노드 아이디를 movie 수로 \n",
    "\n",
    "influencer_feature = torch.cat((img_feature,influencer_keyword,subscriber_rank,video_rank,average_view_rank,average_view_byvideo_rank,neg_rank), dim=-1)#,neg.reshape(3788,1),pos.reshape(3788,1))\n",
    "\n",
    "data = HeteroData()\n",
    "data[\"advertiser\"].node_id = torch.arange(len(unique_advertiser_id)) \n",
    "data[\"influencer\"].node_id = torch.arange(len(unique_influencer_id)) \n",
    "data[\"advertiser\"].x = advertiser_keyword \n",
    "data[\"influencer\"].x = influencer_feature \n",
    "data[\"advertiser\", \"interest\", \"influencer\"].edge_index = edge_index_advertiser_to_influencer \n",
    "data[\"advertiser\", \"interest\", \"influencer\"].edge_weight=weight_feature\n",
    "print(data)\n",
    "\n",
    "\n",
    "data = T.ToUndirected()(data) # 양방향으로 정보를 전달할 수 있도록 역방향 edge 추가 \n"
   ]
  },
  {
   "cell_type": "markdown",
   "metadata": {},
   "source": [
    "# training setting"
   ]
  },
  {
   "cell_type": "code",
   "execution_count": 27,
   "metadata": {},
   "outputs": [],
   "source": [
    "# random link split \n",
    "torch.manual_seed(827)\n",
    "transform = T.RandomLinkSplit( \n",
    "    num_val=0.1,\n",
    "    num_test=0.1,\n",
    "    disjoint_train_ratio=0.3,\n",
    "    neg_sampling_ratio=2.0,\n",
    "    add_negative_train_samples=False,\n",
    "    edge_types=(\"advertiser\", \"interest\", \"influencer\"),\n",
    "    rev_edge_types=(\"influencer\", \"rev_interest\", \"advertiser\"), \n",
    ")\n",
    "train_data, val_data, test_data = transform(data)\n",
    "\n",
    "# train loader setting\n",
    "edge_label_index = train_data[\"advertiser\", \"interest\", \"influencer\"].edge_label_index\n",
    "edge_label = train_data[\"advertiser\", \"interest\", \"influencer\"].edge_label\n",
    "train_loader = LinkNeighborLoader(\n",
    "    data=train_data,\n",
    "    num_neighbors=[30,10],\n",
    "    neg_sampling_ratio=2.0,\n",
    "    edge_label_index=((\"advertiser\", \"interest\", \"influencer\"), edge_label_index),\n",
    "    edge_label=edge_label,\n",
    "    batch_size=256,\n",
    "    shuffle=True\n",
    ")"
   ]
  },
  {
   "cell_type": "code",
   "execution_count": 28,
   "metadata": {},
   "outputs": [],
   "source": [
    "# define GNN \n",
    "class GNN(torch.nn.Module):\n",
    "        def __init__(self, hidden_channels):\n",
    "            super().__init__()\n",
    "\n",
    "            self.conv1 = GraphConv(hidden_channels, hidden_channels,aggr  = 'mean' , edge_weight=weight_feature)\n",
    "            self.conv2 = GraphConv(hidden_channels, hidden_channels,aggr  = 'mean', edge_weight=weight_feature)\n",
    "        def forward(self, x: Tensor, edge_index: Tensor) -> Tensor:\n",
    "            x = F.relu(self.conv1(x, edge_index))\n",
    "            x = self.conv2(x, edge_index)\n",
    "            x = self.conv2(x, edge_index)\n",
    "\n",
    "\n",
    "            return x\n",
    "\n",
    "\n",
    "class Classifier(torch.nn.Module):\n",
    "\n",
    "    def forward(self, x_advertiser: Tensor, x_influencer: Tensor, edge_label_index: Tensor) -> Tensor:\n",
    "\n",
    "\n",
    "        edge_feat_advertiser = x_advertiser[edge_label_index[0]]\n",
    "        edge_feat_influencer = x_influencer[edge_label_index[1]] \n",
    "\n",
    "        return (edge_feat_advertiser * edge_feat_influencer).sum(dim=-1) \n",
    "\n",
    "\n",
    "\n",
    "class Model(torch.nn.Module):\n",
    "    def __init__(self, hidden_channels):\n",
    "        super().__init__()\n",
    "        \n",
    "\n",
    "        self.advertiser_lin = torch.nn.Linear((data['advertiser'].x).shape[1], hidden_channels) \n",
    "        self.influencer_lin = torch.nn.Linear((data['influencer'].x).shape[1], hidden_channels) \n",
    "\n",
    "        self.advertiser_emb = torch.nn.Embedding(data[\"advertiser\"].num_nodes, hidden_channels)\n",
    "        self.influencer_emb = torch.nn.Embedding(data[\"influencer\"].num_nodes, hidden_channels)\n",
    "\n",
    "\n",
    "\n",
    "\n",
    "        self.gnn = GNN(hidden_channels)\n",
    "        self.gnn = to_hetero(self.gnn, metadata=data.metadata())\n",
    "        self.classifier = Classifier()\n",
    "    def forward(self, data: HeteroData) -> Tensor:\n",
    "        x_dict = {\n",
    "        \"advertiser\": self.advertiser_lin(data[\"advertiser\"].x) + self.advertiser_emb(data[\"advertiser\"].node_id),\n",
    "        \"influencer\": self.influencer_lin(data[\"influencer\"].x) + self.influencer_emb(data[\"influencer\"].node_id)\n",
    "        } \n",
    "\n",
    "\n",
    "        x_dict = self.gnn(x = x_dict, edge_index = data.edge_index_dict)\n",
    "\n",
    "        pred = self.classifier(\n",
    "            x_dict[\"advertiser\"],\n",
    "            x_dict[\"influencer\"],\n",
    "            data[\"advertiser\", \"interest\", \"influencer\"].edge_label_index )\n",
    "        return pred\n"
   ]
  },
  {
   "cell_type": "markdown",
   "metadata": {},
   "source": [
    "# train GNN-IR"
   ]
  },
  {
   "cell_type": "code",
   "execution_count": 30,
   "metadata": {},
   "outputs": [
    {
     "name": "stderr",
     "output_type": "stream",
     "text": [
      "100%|████████████████████████████████████████████████████████████████████████████████| 100/100 [02:44<00:00,  1.64s/it]\n"
     ]
    }
   ],
   "source": [
    "model = Model(hidden_channels=64)\n",
    "\n",
    "\n",
    "device = torch.device('cuda' if torch.cuda.is_available() else 'cpu')\n",
    "model = model.to(device)\n",
    "optimizer = torch.optim.Adam(model.parameters(), lr=0.0001)\n",
    "for epoch in tqdm(range(100)):\n",
    "    total_loss = total_examples = 0\n",
    "    for sampled_data in train_loader:\n",
    "        weight_feature=sampled_data[\"advertiser\", \"interest\", \"influencer\"]['edge_weight']\n",
    "        optimizer.zero_grad()\n",
    "        sampled_data.to(device)\n",
    "        pred = model(sampled_data)\n",
    "\n",
    "        ground_truth = sampled_data[\"advertiser\", \"interest\", \"influencer\"].edge_label\n",
    "        ground_truth=ground_truth.float()\n",
    "\n",
    "        loss = F.binary_cross_entropy_with_logits(pred, ground_truth)\n",
    "        loss.backward()\n",
    "        optimizer.step()\n",
    "        total_loss += float(loss) * pred.numel()\n",
    "        total_examples += pred.numel()\n",
    "\n",
    "    val_preds = []\n",
    "    val_ground_truths = []\n",
    "\n",
    "    val_data.to(device)\n",
    "    val_preds.append(model(val_data))\n",
    "    weight_feature=val_data[\"advertiser\", \"interest\", \"influencer\"]['edge_weight']\n",
    "    val_ground_truths.append(val_data[\"advertiser\", \"interest\", \"influencer\"].edge_label)\n",
    "\n",
    "    val_pred = torch.cat(val_preds, dim=0).detach().cpu().numpy()\n",
    "    val_ground_truth = torch.cat(val_ground_truths, dim=0).detach().cpu().numpy()\n",
    "\n",
    "\n",
    "\n",
    "    pred_tensor = torch.from_numpy(val_pred).to(device) \n",
    "    probabilities = torch.sigmoid(pred_tensor).cpu().numpy() \n",
    "\n",
    "    auc = roc_auc_score(val_ground_truth, probabilities)\n"
   ]
  },
  {
   "cell_type": "markdown",
   "metadata": {},
   "source": [
    "# evaluate GNN-IR"
   ]
  },
  {
   "cell_type": "code",
   "execution_count": 31,
   "metadata": {},
   "outputs": [
    {
     "name": "stdout",
     "output_type": "stream",
     "text": [
      "roc_auc값: 0.9473739872008996\n",
      "auc 값:0.8910078135346312\n",
      "precision 값: 0.886052871467639\n",
      "recall 값:0.7723480333730631\n",
      "f1 값:0.8253024835491402\n"
     ]
    }
   ],
   "source": [
    "# test_loader setting\n",
    "edge_label_index = test_data[\"advertiser\", \"interest\", \"influencer\"].edge_label_index\n",
    "edge_label = test_data[\"advertiser\", \"interest\", \"influencer\"].edge_label\n",
    "\n",
    "test_loader = LinkNeighborLoader(\n",
    "    data=test_data,\n",
    "    num_neighbors=[30, 10],\n",
    "    edge_label_index=((\"advertiser\", \"interest\", \"influencer\"), edge_label_index),\n",
    "    edge_label=edge_label,\n",
    "    batch_size=256,\n",
    "    shuffle=False,\n",
    ")\n",
    "sampled_data = next(iter(test_loader))\n",
    "\n",
    "# evaluate model using test data\n",
    "preds = []\n",
    "nn=0\n",
    "ground_truths = []\n",
    "ground_starts =[]\n",
    "ground_ends =[]\n",
    "for sampled_data in test_loader:\n",
    "\n",
    "    with torch.no_grad():\n",
    "        sampled_data.to(device)\n",
    "        preds.append(model(sampled_data))   \n",
    "\n",
    "        ground_starts.append(sampled_data[\"advertiser\", \"interest\", \"influencer\"].edge_label_index[0]) \n",
    "        ground_ends.append(sampled_data[\"advertiser\", \"interest\", \"influencer\"].edge_label_index[1]) \n",
    "        ground_truths.append(sampled_data[\"advertiser\", \"interest\", \"influencer\"].edge_label)\n",
    "\n",
    "\n",
    "pred = torch.cat(preds, dim=0).cpu().numpy() \n",
    "pred_tensor = torch.from_numpy(pred).to(device)  \n",
    "probabilities = torch.sigmoid(pred_tensor).cpu().numpy() \n",
    "\n",
    "ground_truth = torch.cat(ground_truths, dim=0).cpu().numpy()\n",
    "ground_start = torch.cat(ground_starts, dim=0).cpu().numpy() \n",
    "ground_end = torch.cat(ground_ends, dim=0).cpu().numpy()\n",
    "roc_auc = roc_auc_score(ground_truth, probabilities)\n",
    "\n",
    "result_df=pd.DataFrame()\n",
    "result_df['start']=ground_start\n",
    "result_df['end']=ground_end\n",
    "result_df['proba']=probabilities\n",
    "result_df['ground_truth']=ground_truth\n",
    "\n",
    "pred_value=[]\n",
    "for i in range(len(result_df)):\n",
    "    if result_df.iloc[i]['proba']>=0.5:\n",
    "        pred_value.append(1.0)\n",
    "    else:\n",
    "        pred_value.append(0.0)\n",
    "\n",
    "result_df['pred_value']=pred_value\n",
    "\n",
    "auc=accuracy_score(ground_truth, pred_value)\n",
    "precision=precision_score(ground_truth, pred_value, average='binary')\n",
    "recall=recall_score(ground_truth, pred_value, average='binary')\n",
    "f1=f1_score(ground_truth, pred_value, average='binary')\n",
    "\n",
    "\n",
    "print(f'roc_auc값: {roc_auc}')\n",
    "print(f'auc 값:{auc}')\n",
    "print(f'precision 값: {precision}')\n",
    "print(f'recall 값:{recall}')\n",
    "print(f'f1 값:{f1}')"
   ]
  },
  {
   "cell_type": "markdown",
   "metadata": {},
   "source": [
    "# precision@k"
   ]
  },
  {
   "cell_type": "code",
   "execution_count": 32,
   "metadata": {},
   "outputs": [
    {
     "name": "stdout",
     "output_type": "stream",
     "text": [
      "precision@1 : 0.9705882352941176\n",
      "precision@2 : 0.9732142857142857\n",
      "precision@3 : 0.9706078824315303\n",
      "precision@4 : 0.9672213817448314\n",
      "precision@5 : 0.9624035728786022\n",
      "precision@6 : 0.9576190476190479\n",
      "precision@7 : 0.9532116635200353\n",
      "precision@8 : 0.9482882283348137\n",
      "precision@9 : 0.9438701499118198\n",
      "precision@10 : 0.9402106362258209\n"
     ]
    }
   ],
   "source": [
    "total_precision=[]\n",
    "real=result_df[:2517]\n",
    "precision_list=[]\n",
    "real_uni=real['start'].unique() \n",
    "# get precision@k\n",
    "for k in range(1,11):\n",
    "    realk=[]\n",
    "    for m in range(len(real_uni)):\n",
    "        if len(real[real['start']==real_uni[m]])>=k: \n",
    "            realk.append(real_uni[m])\n",
    "    for i in range(len(realk)):\n",
    "        a=result_df[result_df['start']==realk[i]]\n",
    "        topk_indices = a['proba'].nlargest(k).index\n",
    "        b=result_df.iloc[topk_indices]\n",
    "        zero=0\n",
    "        recommendk=b['end'].tolist()    \n",
    "        for j in range(len(recommendk)):\n",
    "            one_collection=a[a['ground_truth']==1.0]           \n",
    "            if recommendk[j] in one_collection['end'].tolist():\n",
    "                zero+=1\n",
    "        total_precision.append(zero/k)\n",
    "    print(f'precision@{k} : {sum(total_precision)/len(total_precision)}') \n",
    "    precision_list.append(sum(total_precision)/len(total_precision))\n",
    "\n",
    "        \n"
   ]
  },
  {
   "cell_type": "code",
   "execution_count": 33,
   "metadata": {},
   "outputs": [
    {
     "data": {
      "image/png": "[encoded data removed]",
      "text/plain": [
       "<Figure size 432x288 with 1 Axes>"
      ]
     },
     "metadata": {
      "needs_background": "light"
     },
     "output_type": "display_data"
    }
   ],
   "source": [
    "# visualize precision@k\n",
    "x = np.arange(1,11)\n",
    "y = np.array(precision_list)\n",
    "\n",
    "plt.xlabel('x axis')\n",
    "plt.ylabel('y axis')\n",
    "plt.ylim([0.8, 1.0])\n",
    "plt.plot(x,y,'g')\n",
    "plt.title('Precision@K')\n",
    "plt.show()\n"
   ]
  },
  {
   "cell_type": "markdown",
   "metadata": {},
   "source": [
    "# recall@k"
   ]
  },
  {
   "cell_type": "code",
   "execution_count": 34,
   "metadata": {},
   "outputs": [
    {
     "name": "stdout",
     "output_type": "stream",
     "text": [
      "recall@1 : 0.09319504041537878\n",
      "recall@2 : 0.1369743345183971\n",
      "recall@3 : 0.17875895568045055\n",
      "recall@4 : 0.21762535104064704\n",
      "recall@5 : 0.2536278683541011\n",
      "recall@6 : 0.28803041846577443\n",
      "recall@7 : 0.32103009041940656\n",
      "recall@8 : 0.35339983878952075\n",
      "recall@9 : 0.38501379384654283\n",
      "recall@10 : 0.4151538141174619\n"
     ]
    }
   ],
   "source": [
    "total_recall=[]\n",
    "recall_list=[]\n",
    "real=result_df[:2517]\n",
    "real_uni=real['start'].unique()\n",
    "for m in range(1,11):\n",
    "    k=m\n",
    "    realk=[]\n",
    "    for i in range(len(real_uni)):\n",
    "        a=result_df[result_df['start']==real_uni[i]]       \n",
    "        topk_indices = a['proba'].nlargest(k).index \n",
    "        b=result_df.iloc[topk_indices]\n",
    "        zero=0\n",
    "        recommendk=b['end'].tolist()\n",
    "        for j in range(len(recommendk)):\n",
    "            one_collection=a[a['ground_truth']==1.0]\n",
    "            if recommendk[j] in one_collection['end'].tolist():\n",
    "                zero+=1\n",
    "        total_recall.append(zero/len(one_collection))\n",
    "    print(f'recall@{k} : {sum(total_recall)/len(total_recall)}')  \n",
    "    recall_list.append(sum(total_recall)/len(total_recall))"
   ]
  },
  {
   "cell_type": "code",
   "execution_count": 35,
   "metadata": {
    "scrolled": true
   },
   "outputs": [
    {
     "data": {
      "image/png": "[encoded data removed]",
      "text/plain": [
       "<Figure size 432x288 with 1 Axes>"
      ]
     },
     "metadata": {
      "needs_background": "light"
     },
     "output_type": "display_data"
    }
   ],
   "source": [
    "# visualize recall@k\n",
    "x = np.arange(1,11)\n",
    "y = np.array(recall_list)\n",
    "plt.plot(x,y,'g')\n",
    "plt.xlabel('x axis')\n",
    "plt.ylabel('y axis')\n",
    "plt.title('Recall@K')\n",
    "plt.show()\n"
   ]
  }
 ],
 "metadata": {
  "colab": {
   "authorship_tag": "ABX9TyN3tGIf7wKC7xBKcGPgg5Nt",
   "provenance": []
  },
  "kernelspec": {
   "display_name": "Python 3 (ipykernel)",
   "language": "python",
   "name": "python3"
  },
  "language_info": {
   "codemirror_mode": {
    "name": "ipython",
    "version": 3
   },
   "file_extension": ".py",
   "mimetype": "text/x-python",
   "name": "python",
   "nbconvert_exporter": "python",
   "pygments_lexer": "ipython3",
   "version": "3.8.0"
  },
  "vscode": {
   "interpreter": {
    "hash": "589c9265f8e9b20c0aa665494c5b23b1f9b813abe86f8f16cac9cdaab7321e90"
   }
  }
 },
 "nbformat": 4,
 "nbformat_minor": 1
}
